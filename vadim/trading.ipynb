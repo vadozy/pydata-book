{
 "cells": [
  {
   "cell_type": "code",
   "execution_count": 7,
   "metadata": {},
   "outputs": [],
   "source": [
    "import sys\n",
    "sys.path.insert(0,'/Users/vadim/pythonProjects/trading')\n",
    "\n",
    "import datareader as dr"
   ]
  },
  {
   "cell_type": "code",
   "execution_count": 8,
   "metadata": {},
   "outputs": [
    {
     "name": "stderr",
     "output_type": "stream",
     "text": [
      "2017-07-09 01:27:52,604 DEBUG: Loading Yahoo file: /Users/vadim/pythonProjects/trading/data/UNH_yahoo.csv\n"
     ]
    }
   ],
   "source": [
    "df1 = dr.readfile(dir='/Users/vadim/pythonProjects/trading/data', symbol='UNH', vendor='Yahoo')"
   ]
  },
  {
   "cell_type": "code",
   "execution_count": 9,
   "metadata": {},
   "outputs": [
    {
     "name": "stderr",
     "output_type": "stream",
     "text": [
      "2017-07-09 01:27:53,406 DEBUG: Loading Google file: /Users/vadim/pythonProjects/trading/data/UNH_google.csv\n"
     ]
    }
   ],
   "source": [
    "df2 = dr.readfile(dir='/Users/vadim/pythonProjects/trading/data', symbol='UNH', vendor='Google')"
   ]
  },
  {
   "cell_type": "code",
   "execution_count": 10,
   "metadata": {},
   "outputs": [
    {
     "data": {
      "text/plain": [
       "DatetimeIndex(['1990-01-02', '1990-01-03', '1990-01-04', '1990-01-05',\n",
       "               '1990-01-08', '1990-01-09', '1990-01-10', '1990-01-11',\n",
       "               '1990-01-12', '1990-01-15',\n",
       "               ...\n",
       "               '2017-06-20', '2017-06-21', '2017-06-22', '2017-06-23',\n",
       "               '2017-06-26', '2017-06-27', '2017-06-28', '2017-06-29',\n",
       "               '2017-06-30', '2017-07-03'],\n",
       "              dtype='datetime64[ns]', name='Date', length=6931, freq=None)"
      ]
     },
     "execution_count": 10,
     "metadata": {},
     "output_type": "execute_result"
    }
   ],
   "source": [
    "df1.index"
   ]
  },
  {
   "cell_type": "code",
   "execution_count": 11,
   "metadata": {},
   "outputs": [
    {
     "data": {
      "text/plain": [
       "DatetimeIndex(['1990-01-02', '1990-01-03', '1990-01-04', '1990-01-05',\n",
       "               '1990-01-08', '1990-01-09', '1990-01-10', '1990-01-11',\n",
       "               '1990-01-12', '1990-01-15',\n",
       "               ...\n",
       "               '2017-06-20', '2017-06-21', '2017-06-22', '2017-06-23',\n",
       "               '2017-06-26', '2017-06-27', '2017-06-28', '2017-06-29',\n",
       "               '2017-06-30', '2017-07-03'],\n",
       "              dtype='datetime64[ns]', name='Date', length=6931, freq=None)"
      ]
     },
     "execution_count": 11,
     "metadata": {},
     "output_type": "execute_result"
    }
   ],
   "source": [
    "df2.index"
   ]
  },
  {
   "cell_type": "code",
   "execution_count": 12,
   "metadata": {},
   "outputs": [
    {
     "name": "stderr",
     "output_type": "stream",
     "text": [
      "2017-07-09 01:27:56,914 DEBUG: 2005-05-27 00:00:00 : split = 2.0\n",
      "2017-07-09 01:27:57,026 DEBUG: 2003-06-18 00:00:00 : split = 2.0\n",
      "2017-07-09 01:27:57,169 DEBUG: 2000-12-22 00:00:00 : split = 2.0\n",
      "2017-07-09 01:27:57,539 DEBUG: 1994-03-10 00:00:00 : split = 2.0\n",
      "2017-07-09 01:27:57,626 DEBUG: 1992-09-15 00:00:00 : split = 2.0\n"
     ]
    },
    {
     "data": {
      "text/html": [
       "<div>\n",
       "<style>\n",
       "    .dataframe thead tr:only-child th {\n",
       "        text-align: right;\n",
       "    }\n",
       "\n",
       "    .dataframe thead th {\n",
       "        text-align: left;\n",
       "    }\n",
       "\n",
       "    .dataframe tbody tr th {\n",
       "        vertical-align: top;\n",
       "    }\n",
       "</style>\n",
       "<table border=\"1\" class=\"dataframe\">\n",
       "  <thead>\n",
       "    <tr style=\"text-align: right;\">\n",
       "      <th></th>\n",
       "      <th>Open</th>\n",
       "      <th>High</th>\n",
       "      <th>Low</th>\n",
       "      <th>Close</th>\n",
       "      <th>Adj Close</th>\n",
       "      <th>Volume</th>\n",
       "    </tr>\n",
       "    <tr>\n",
       "      <th>Date</th>\n",
       "      <th></th>\n",
       "      <th></th>\n",
       "      <th></th>\n",
       "      <th></th>\n",
       "      <th></th>\n",
       "      <th></th>\n",
       "    </tr>\n",
       "  </thead>\n",
       "  <tbody>\n",
       "    <tr>\n",
       "      <th>2005-05-26</th>\n",
       "      <td>48.500000</td>\n",
       "      <td>48.730000</td>\n",
       "      <td>48.384998</td>\n",
       "      <td>48.570000</td>\n",
       "      <td>43.225616</td>\n",
       "      <td>3173400</td>\n",
       "    </tr>\n",
       "    <tr>\n",
       "      <th>2005-05-27</th>\n",
       "      <td>48.630001</td>\n",
       "      <td>49.000000</td>\n",
       "      <td>48.419998</td>\n",
       "      <td>48.884999</td>\n",
       "      <td>43.505959</td>\n",
       "      <td>3509200</td>\n",
       "    </tr>\n",
       "    <tr>\n",
       "      <th>2005-05-31</th>\n",
       "      <td>49.150002</td>\n",
       "      <td>49.400002</td>\n",
       "      <td>48.500000</td>\n",
       "      <td>48.580002</td>\n",
       "      <td>43.234524</td>\n",
       "      <td>4026300</td>\n",
       "    </tr>\n",
       "    <tr>\n",
       "      <th>2005-06-01</th>\n",
       "      <td>48.700001</td>\n",
       "      <td>49.549999</td>\n",
       "      <td>48.509998</td>\n",
       "      <td>49.230000</td>\n",
       "      <td>43.812996</td>\n",
       "      <td>4609700</td>\n",
       "    </tr>\n",
       "  </tbody>\n",
       "</table>\n",
       "</div>"
      ],
      "text/plain": [
       "                 Open       High        Low      Close  Adj Close   Volume\n",
       "Date                                                                      \n",
       "2005-05-26  48.500000  48.730000  48.384998  48.570000  43.225616  3173400\n",
       "2005-05-27  48.630001  49.000000  48.419998  48.884999  43.505959  3509200\n",
       "2005-05-31  49.150002  49.400002  48.500000  48.580002  43.234524  4026300\n",
       "2005-06-01  48.700001  49.549999  48.509998  49.230000  43.812996  4609700"
      ]
     },
     "execution_count": 12,
     "metadata": {},
     "output_type": "execute_result"
    }
   ],
   "source": [
    "#df3 = df2['1999-Dec-20' : '2000-Jan-10']\n",
    "#print(df3)\n",
    "#df3 == 0\n",
    "#print(df2.iloc[3].name)\n",
    "#df2[df2.iloc[3].name, 'Close'] = 45\n",
    "#print(df3.iloc[0]['Close'])\n",
    "#df2.loc['2005-May-27']\n",
    "\n",
    "dr.fix_yahoo_close_price_splits(df1)\n",
    "df1['2005-05-26':'2005-06-01']"
   ]
  },
  {
   "cell_type": "code",
   "execution_count": 13,
   "metadata": {},
   "outputs": [
    {
     "name": "stdout",
     "output_type": "stream",
     "text": [
      "                 Open       High        Low      Close  Adj Close   Volume\n",
      "Date                                                                      \n",
      "2005-05-26  48.500000  48.730000  48.384998  48.570000  43.225616  3173400\n",
      "2005-05-27  48.630001  49.000000  48.419998  48.884999  43.505959  3509200\n",
      "2005-05-31  49.150002  49.400002  48.500000  48.580002  43.234524  4026300\n",
      "2005-06-01  48.700001  49.549999  48.509998  49.230000  43.812996  4609700\n",
      "             Open   High    Low  Close   Volume\n",
      "Date                                           \n",
      "2005-05-26  48.50  48.73  48.38  48.57  3174000\n",
      "2005-05-27  48.63  49.00  48.42  48.88  3509600\n",
      "2005-05-31  49.15  49.40  48.50  48.58  4027200\n",
      "2005-06-01  48.70  49.55  48.51  49.23  5605000\n"
     ]
    }
   ],
   "source": [
    "print(df1['2005-05-26':'2005-06-01'])\n",
    "print(df2['2005-05-26':'2005-06-01'])"
   ]
  },
  {
   "cell_type": "code",
   "execution_count": 15,
   "metadata": {},
   "outputs": [
    {
     "name": "stdout",
     "output_type": "stream",
     "text": [
      "True\n",
      "True\n",
      "True\n",
      "False\n",
      "df1 index duplicates : False\n",
      "df2 index duplicates : False\n",
      "False\n",
      "2012-05-02 00:00:00\n"
     ]
    },
    {
     "data": {
      "text/plain": [
       "Timestamp('1990-01-02 00:00:00')"
      ]
     },
     "execution_count": 15,
     "metadata": {},
     "output_type": "execute_result"
    }
   ],
   "source": [
    "print(df1.index.is_unique)\n",
    "print(df2.index.is_unique)\n",
    "print(df1.index.is_monotonic_increasing)\n",
    "print(df2.index.is_monotonic_decreasing)\n",
    "print('df1 index duplicates : %s' % df1.index.has_duplicates)\n",
    "print('df2 index duplicates : %s' % df2.index.has_duplicates)\n",
    "a1 = df1.index.isnull()\n",
    "print(a1.any())\n",
    "\n",
    "from datetime import datetime\n",
    "d1 = datetime(2012, 5, 2)\n",
    "print(d1)\n",
    "\n",
    "df2.index[0]"
   ]
  },
  {
   "cell_type": "code",
   "execution_count": 17,
   "metadata": {},
   "outputs": [
    {
     "name": "stdout",
     "output_type": "stream",
     "text": [
      "<class 'pandas.core.frame.DataFrame'>\n",
      "<class 'pandas.core.indexes.datetimes.DatetimeIndex'>\n",
      "<class 'pandas.core.series.Series'>\n"
     ]
    }
   ],
   "source": [
    "df2.index.difference(df1.index)\n",
    "print(type(df2))\n",
    "print(type(df2.index))\n",
    "print(type(df2['Open']))"
   ]
  },
  {
   "cell_type": "code",
   "execution_count": null,
   "metadata": {
    "collapsed": true
   },
   "outputs": [],
   "source": []
  }
 ],
 "metadata": {
  "kernelspec": {
   "display_name": "Python 3",
   "language": "python",
   "name": "python3"
  },
  "language_info": {
   "codemirror_mode": {
    "name": "ipython",
    "version": 3
   },
   "file_extension": ".py",
   "mimetype": "text/x-python",
   "name": "python",
   "nbconvert_exporter": "python",
   "pygments_lexer": "ipython3",
   "version": "3.6.1"
  }
 },
 "nbformat": 4,
 "nbformat_minor": 2
}
