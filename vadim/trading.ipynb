{
 "cells": [
  {
   "cell_type": "code",
   "execution_count": 1,
   "metadata": {},
   "outputs": [],
   "source": [
    "import sys\n",
    "import logging as log\n",
    "log.basicConfig(format='%(asctime)s %(levelname)s: %(message)s', level=log.INFO)\n",
    "\n",
    "sys.path.insert(0,'/Users/vadim/pythonProjects/trading')\n",
    "\n",
    "import datareader as dr"
   ]
  },
  {
   "cell_type": "code",
   "execution_count": 2,
   "metadata": {},
   "outputs": [
    {
     "name": "stderr",
     "output_type": "stream",
     "text": [
      "2017-07-09 14:48:56,516 WARNING: 2001-12-11 volumes (y: 12632800.0) (g: 4068400.0) diff over 50.0%\n",
      "2017-07-09 14:48:56,952 WARNING: 2004-07-30 open prices (y: 31.719999) (g: 29.96) diff over 5.0%\n",
      "2017-07-09 14:48:57,018 WARNING: 2004-12-10 open prices (y: 42.275002) (g: 45.51) diff over 5.0%\n",
      "2017-07-09 14:48:59,063 WARNING: Total number of matching errors: 3\n"
     ]
    }
   ],
   "source": [
    "df1 = dr.readfile(dir='/Users/vadim/pythonProjects/trading/data', symbol='UNH')"
   ]
  },
  {
   "cell_type": "code",
   "execution_count": 3,
   "metadata": {},
   "outputs": [
    {
     "data": {
      "text/plain": [
       "DatetimeIndex(['1990-01-02', '1990-01-03', '1990-01-04', '1990-01-05',\n",
       "               '1990-01-08', '1990-01-09', '1990-01-10', '1990-01-11',\n",
       "               '1990-01-12', '1990-01-15',\n",
       "               ...\n",
       "               '2017-06-20', '2017-06-21', '2017-06-22', '2017-06-23',\n",
       "               '2017-06-26', '2017-06-27', '2017-06-28', '2017-06-29',\n",
       "               '2017-06-30', '2017-07-03'],\n",
       "              dtype='datetime64[ns]', name='Date', length=6931, freq=None)"
      ]
     },
     "execution_count": 3,
     "metadata": {},
     "output_type": "execute_result"
    }
   ],
   "source": [
    "df1.index"
   ]
  },
  {
   "cell_type": "code",
   "execution_count": 4,
   "metadata": {},
   "outputs": [
    {
     "data": {
      "text/html": [
       "<div>\n",
       "<style>\n",
       "    .dataframe thead tr:only-child th {\n",
       "        text-align: right;\n",
       "    }\n",
       "\n",
       "    .dataframe thead th {\n",
       "        text-align: left;\n",
       "    }\n",
       "\n",
       "    .dataframe tbody tr th {\n",
       "        vertical-align: top;\n",
       "    }\n",
       "</style>\n",
       "<table border=\"1\" class=\"dataframe\">\n",
       "  <thead>\n",
       "    <tr style=\"text-align: right;\">\n",
       "      <th></th>\n",
       "      <th>Open</th>\n",
       "      <th>High</th>\n",
       "      <th>Low</th>\n",
       "      <th>Close</th>\n",
       "      <th>Volume</th>\n",
       "    </tr>\n",
       "    <tr>\n",
       "      <th>Date</th>\n",
       "      <th></th>\n",
       "      <th></th>\n",
       "      <th></th>\n",
       "      <th></th>\n",
       "      <th></th>\n",
       "    </tr>\n",
       "  </thead>\n",
       "  <tbody>\n",
       "    <tr>\n",
       "      <th>2005-05-26</th>\n",
       "      <td>48.500000</td>\n",
       "      <td>48.730000</td>\n",
       "      <td>48.384998</td>\n",
       "      <td>48.570000</td>\n",
       "      <td>3173400</td>\n",
       "    </tr>\n",
       "    <tr>\n",
       "      <th>2005-05-27</th>\n",
       "      <td>48.630001</td>\n",
       "      <td>49.000000</td>\n",
       "      <td>48.419998</td>\n",
       "      <td>48.884999</td>\n",
       "      <td>3509200</td>\n",
       "    </tr>\n",
       "    <tr>\n",
       "      <th>2005-05-31</th>\n",
       "      <td>49.150002</td>\n",
       "      <td>49.400002</td>\n",
       "      <td>48.500000</td>\n",
       "      <td>48.580002</td>\n",
       "      <td>4026300</td>\n",
       "    </tr>\n",
       "    <tr>\n",
       "      <th>2005-06-01</th>\n",
       "      <td>48.700001</td>\n",
       "      <td>49.549999</td>\n",
       "      <td>48.509998</td>\n",
       "      <td>49.230000</td>\n",
       "      <td>4609700</td>\n",
       "    </tr>\n",
       "  </tbody>\n",
       "</table>\n",
       "</div>"
      ],
      "text/plain": [
       "                 Open       High        Low      Close   Volume\n",
       "Date                                                           \n",
       "2005-05-26  48.500000  48.730000  48.384998  48.570000  3173400\n",
       "2005-05-27  48.630001  49.000000  48.419998  48.884999  3509200\n",
       "2005-05-31  49.150002  49.400002  48.500000  48.580002  4026300\n",
       "2005-06-01  48.700001  49.549999  48.509998  49.230000  4609700"
      ]
     },
     "execution_count": 4,
     "metadata": {},
     "output_type": "execute_result"
    }
   ],
   "source": [
    "# UNH Stock split 2/1 happened between May 27 and May 31, 2005\n",
    "df1['2005-05-26':'2005-06-01']"
   ]
  },
  {
   "cell_type": "code",
   "execution_count": null,
   "metadata": {
    "collapsed": true
   },
   "outputs": [],
   "source": []
  }
 ],
 "metadata": {
  "kernelspec": {
   "display_name": "Python 3",
   "language": "python",
   "name": "python3"
  },
  "language_info": {
   "codemirror_mode": {
    "name": "ipython",
    "version": 3
   },
   "file_extension": ".py",
   "mimetype": "text/x-python",
   "name": "python",
   "nbconvert_exporter": "python",
   "pygments_lexer": "ipython3",
   "version": "3.6.1"
  }
 },
 "nbformat": 4,
 "nbformat_minor": 2
}
