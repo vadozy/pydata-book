{
 "cells": [
  {
   "cell_type": "code",
   "execution_count": null,
   "metadata": {
    "collapsed": true
   },
   "outputs": [],
   "source": [
    "import sys\n",
    "import logging as log\n",
    "log.basicConfig(format='%(asctime)s %(levelname)s: %(message)s', level=log.INFO)\n",
    "\n",
    "sys.path.insert(0,'/Users/vadim/pythonProjects/trading')\n",
    "\n",
    "import datareader as dr\n",
    "import algo.simple as inv1\n",
    "import algo.parabolic as inv2"
   ]
  },
  {
   "cell_type": "code",
   "execution_count": null,
   "metadata": {},
   "outputs": [],
   "source": [
    "df1 = dr.readfile(dir='/Users/vadim/pythonProjects/trading/data', symbol='UNH')\n",
    "print(df1.index[0])"
   ]
  },
  {
   "cell_type": "code",
   "execution_count": null,
   "metadata": {
    "collapsed": true
   },
   "outputs": [],
   "source": [
    "print(\"df1 -> \" + str(type(df1)))\n",
    "print(\"df1.index -> \" + str(type(df1.index)))\n",
    "print(\"df1['Close'] ->\" + str(type(df1['Close'])))\n",
    "print(\"df1['Close'].index\" + str(type(df1['Close'].index)))\n",
    "print(\"df1['Close'].values\" + str(type(df1['Close'].values)))"
   ]
  },
  {
   "cell_type": "code",
   "execution_count": null,
   "metadata": {},
   "outputs": [],
   "source": [
    "df2 = df1['2005-01-03':'2005-01-06']\n",
    "df3 = df1['2004-12-28':'2005-01-02']\n",
    "print(df2, '\\n\\n', df3)\n",
    "from dateutil.parser import parse\n",
    "from datetime import datetime\n",
    "from datetime import timedelta\n",
    "from_date = parse('2005-01-03')\n",
    "print(from_date)\n",
    "df1[from_date - timedelta(7): from_date]"
   ]
  },
  {
   "cell_type": "code",
   "execution_count": null,
   "metadata": {},
   "outputs": [],
   "source": [
    "df1[from_date - timedelta(7): from_date].rolling(5).mean()"
   ]
  },
  {
   "cell_type": "code",
   "execution_count": null,
   "metadata": {
    "collapsed": true
   },
   "outputs": [],
   "source": [
    "# UNH Stock split 2/1 happened between May 27 and May 31, 2005\n",
    "df1['2005-05-26':'2005-06-01']"
   ]
  },
  {
   "cell_type": "code",
   "execution_count": null,
   "metadata": {
    "collapsed": true
   },
   "outputs": [],
   "source": [
    "df2 = df1.rolling(5, min_periods=1).mean()\n",
    "df2.columns = ['Mean' + x for x in df2.columns]\n",
    "df2.info()"
   ]
  },
  {
   "cell_type": "code",
   "execution_count": null,
   "metadata": {},
   "outputs": [],
   "source": [
    "print(inv1.compute(df1, '2008-01-01', '2008-12-31'))\n",
    "print(inv2._is_market_up(df1, '2010-11-01'))"
   ]
  },
  {
   "cell_type": "code",
   "execution_count": null,
   "metadata": {
    "collapsed": true
   },
   "outputs": [],
   "source": [
    "import matplotlib.pyplot as plt\n",
    "\n",
    "df3 = df2['2016-01-01':'2017-07-01'].copy()\n",
    "df3['MeanClose'].plot()\n",
    "plt.show()"
   ]
  },
  {
   "cell_type": "code",
   "execution_count": null,
   "metadata": {
    "collapsed": true
   },
   "outputs": [],
   "source": [
    "df3 = df1.loc['2017-05-01':'2017-07-01']\n",
    "\n",
    "import matplotlib.finance as pltfin\n",
    "import matplotlib.pyplot as plt\n",
    "%matplotlib inline\n",
    "#ax = plt.axes()\n",
    "fig, ax = plt.subplots()\n",
    "pltfin.candlestick2_ochl(ax, df3['Open'], df3['Close'], df3['High'], df3['Low'], width=0.6, colorup='g', colordown='r', alpha=0.5)\n",
    "\n",
    "from matplotlib.dates import DateFormatter, WeekdayLocator, DayLocator, MONDAY\n",
    "\n",
    "mondays = WeekdayLocator(MONDAY)        # major ticks on the mondays\n",
    "alldays = DayLocator()              # minor ticks on the days\n",
    "weekFormatter = DateFormatter('%b %d')  # e.g., Jan 12\n",
    "dayFormatter = DateFormatter('%d')      # e.g., 12\n",
    "\n",
    "# format the ticks\n",
    "fig.subplots_adjust(bottom=0.2)\n",
    "ax.xaxis.set_major_locator(mondays)\n",
    "ax.xaxis.set_minor_locator(alldays)\n",
    "ax.xaxis.set_major_formatter(weekFormatter)\n",
    "#ax.xaxis.set_minor_formatter(dayFormatter)\n",
    "\n",
    "ax.grid(True)\n",
    "\n",
    "# format the coords message box\n",
    "def price(x):\n",
    "    return '$%1.2f' % x\n",
    "ax.fmt_xdata = DateFormatter('%Y-%m-%d')\n",
    "#ax.fmt_ydata = price\n",
    "ax.grid(True)\n",
    "\n",
    "ax.xaxis_date()\n",
    "ax.autoscale_view()\n",
    "plt.setp(plt.gca().get_xticklabels(), rotation=45, horizontalalignment='right')\n",
    "\n",
    "plt.show()"
   ]
  }
 ],
 "metadata": {
  "kernelspec": {
   "display_name": "Python 3",
   "language": "python",
   "name": "python3"
  },
  "language_info": {
   "codemirror_mode": {
    "name": "ipython",
    "version": 3
   },
   "file_extension": ".py",
   "mimetype": "text/x-python",
   "name": "python",
   "nbconvert_exporter": "python",
   "pygments_lexer": "ipython3",
   "version": "3.6.1"
  }
 },
 "nbformat": 4,
 "nbformat_minor": 2
}
